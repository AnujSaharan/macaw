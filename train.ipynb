{
	"nbformat":4,
	"nbformat_minor":0,
	"metadata":{
		"colab":{
			"private_outputs":true,
			"provenance":[
				
			]
		},
		"kernelspec":{
			"name":"python3",
			"display_name":"Python 3"
		},
		"language_info":{
			"name":"python"
		},
		"accelerator":"GPU",
		"gpuClass":"standard"
	},
	"cells":[
		{
			"cell_type":"code",
			"execution_count":null,
			"metadata":{
				"id":"AaKpV3rCI3Eo"
			},
			"outputs":[
				
			],
			"source":[
				"!git clone https://git.ecker.tech/mrq/DL-Art-School\n",
				"%cd DL-Art-School\n",
				"!pip install -r requirements.txt"
			]
		},
		{
			"cell_type":"code",
			"source":[
				"from google.colab import drive\n",
				"drive.mount('/content/drive')",
				"%cd /content/DL-Art-School/\n",
				"#!rm -r experiments\n",
				"!ln -s /content/drive/MyDrive/experiments/\n",
			],
			"metadata":{
				"id":"8eV92cjGI4XL"
			},
			"execution_count":null,
			"outputs":[
				
			]
		},
		{
			"cell_type":"code",
			"source":[
				"%cd /content/DL-Art-School/\n",
				"!python ./codes/train.py -opt ./experiments/ar.yml"
			],
			"metadata":{
				"id":"7lcRGqglX2FC"
			},
			"execution_count":null,
			"outputs":[
				
			]
		}
	]
}